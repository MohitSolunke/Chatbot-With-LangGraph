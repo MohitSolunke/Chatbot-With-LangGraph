{
  "nbformat": 4,
  "nbformat_minor": 0,
  "metadata": {
    "colab": {
      "provenance": [],
      "gpuType": "T4",
      "authorship_tag": "ABX9TyPWnQY2e6Hsv5vlHf0ZUYtc",
      "include_colab_link": true
    },
    "kernelspec": {
      "name": "python3",
      "display_name": "Python 3"
    },
    "language_info": {
      "name": "python"
    },
    "accelerator": "GPU"
  },
  "cells": [
    {
      "cell_type": "markdown",
      "metadata": {
        "id": "view-in-github",
        "colab_type": "text"
      },
      "source": [
        "<a href=\"https://colab.research.google.com/github/MohitSolunke/Chatbot-With-LangGraph/blob/main/ChatbotwithLangraph.ipynb\" target=\"_parent\"><img src=\"https://colab.research.google.com/assets/colab-badge.svg\" alt=\"Open In Colab\"/></a>"
      ]
    },
    {
      "cell_type": "markdown",
      "source": [
        "#Chatbots with Langgraph"
      ],
      "metadata": {
        "id": "qsHnmCub6aKd"
      }
    },
    {
      "cell_type": "code",
      "execution_count": 1,
      "metadata": {
        "colab": {
          "base_uri": "https://localhost:8080/"
        },
        "id": "iu6rDZK96OsT",
        "outputId": "3ed1b990-6768-4bdc-efc8-4c773c0a55ce",
        "collapsed": true
      },
      "outputs": [
        {
          "output_type": "stream",
          "name": "stdout",
          "text": [
            "Requirement already satisfied: langgraph in /usr/local/lib/python3.10/dist-packages (0.2.11)\n",
            "Requirement already satisfied: langsmith in /usr/local/lib/python3.10/dist-packages (0.1.101)\n",
            "Requirement already satisfied: langchain-core<0.3,>=0.2.27 in /usr/local/lib/python3.10/dist-packages (from langgraph) (0.2.34)\n",
            "Requirement already satisfied: langgraph-checkpoint<2.0.0,>=1.0.2 in /usr/local/lib/python3.10/dist-packages (from langgraph) (1.0.3)\n",
            "Requirement already satisfied: httpx<1,>=0.23.0 in /usr/local/lib/python3.10/dist-packages (from langsmith) (0.27.0)\n",
            "Requirement already satisfied: orjson<4.0.0,>=3.9.14 in /usr/local/lib/python3.10/dist-packages (from langsmith) (3.10.7)\n",
            "Requirement already satisfied: pydantic<3,>=1 in /usr/local/lib/python3.10/dist-packages (from langsmith) (2.8.2)\n",
            "Requirement already satisfied: requests<3,>=2 in /usr/local/lib/python3.10/dist-packages (from langsmith) (2.32.3)\n",
            "Requirement already satisfied: anyio in /usr/local/lib/python3.10/dist-packages (from httpx<1,>=0.23.0->langsmith) (3.7.1)\n",
            "Requirement already satisfied: certifi in /usr/local/lib/python3.10/dist-packages (from httpx<1,>=0.23.0->langsmith) (2024.7.4)\n",
            "Requirement already satisfied: httpcore==1.* in /usr/local/lib/python3.10/dist-packages (from httpx<1,>=0.23.0->langsmith) (1.0.5)\n",
            "Requirement already satisfied: idna in /usr/local/lib/python3.10/dist-packages (from httpx<1,>=0.23.0->langsmith) (3.7)\n",
            "Requirement already satisfied: sniffio in /usr/local/lib/python3.10/dist-packages (from httpx<1,>=0.23.0->langsmith) (1.3.1)\n",
            "Requirement already satisfied: h11<0.15,>=0.13 in /usr/local/lib/python3.10/dist-packages (from httpcore==1.*->httpx<1,>=0.23.0->langsmith) (0.14.0)\n",
            "Requirement already satisfied: PyYAML>=5.3 in /usr/local/lib/python3.10/dist-packages (from langchain-core<0.3,>=0.2.27->langgraph) (6.0.2)\n",
            "Requirement already satisfied: jsonpatch<2.0,>=1.33 in /usr/local/lib/python3.10/dist-packages (from langchain-core<0.3,>=0.2.27->langgraph) (1.33)\n",
            "Requirement already satisfied: packaging<25,>=23.2 in /usr/local/lib/python3.10/dist-packages (from langchain-core<0.3,>=0.2.27->langgraph) (24.1)\n",
            "Requirement already satisfied: tenacity!=8.4.0,<9.0.0,>=8.1.0 in /usr/local/lib/python3.10/dist-packages (from langchain-core<0.3,>=0.2.27->langgraph) (8.5.0)\n",
            "Requirement already satisfied: typing-extensions>=4.7 in /usr/local/lib/python3.10/dist-packages (from langchain-core<0.3,>=0.2.27->langgraph) (4.12.2)\n",
            "Requirement already satisfied: annotated-types>=0.4.0 in /usr/local/lib/python3.10/dist-packages (from pydantic<3,>=1->langsmith) (0.7.0)\n",
            "Requirement already satisfied: pydantic-core==2.20.1 in /usr/local/lib/python3.10/dist-packages (from pydantic<3,>=1->langsmith) (2.20.1)\n",
            "Requirement already satisfied: charset-normalizer<4,>=2 in /usr/local/lib/python3.10/dist-packages (from requests<3,>=2->langsmith) (3.3.2)\n",
            "Requirement already satisfied: urllib3<3,>=1.21.1 in /usr/local/lib/python3.10/dist-packages (from requests<3,>=2->langsmith) (2.0.7)\n",
            "Requirement already satisfied: jsonpointer>=1.9 in /usr/local/lib/python3.10/dist-packages (from jsonpatch<2.0,>=1.33->langchain-core<0.3,>=0.2.27->langgraph) (3.0.0)\n",
            "Requirement already satisfied: exceptiongroup in /usr/local/lib/python3.10/dist-packages (from anyio->httpx<1,>=0.23.0->langsmith) (1.2.2)\n"
          ]
        }
      ],
      "source": [
        "! pip install langgraph langsmith"
      ]
    },
    {
      "cell_type": "code",
      "source": [
        "! pip install langchain langchain_groq langchain_community"
      ],
      "metadata": {
        "colab": {
          "base_uri": "https://localhost:8080/"
        },
        "id": "UmYS46J37cX4",
        "outputId": "84455e82-9284-444e-d425-72365ccec084",
        "collapsed": true
      },
      "execution_count": 2,
      "outputs": [
        {
          "output_type": "stream",
          "name": "stdout",
          "text": [
            "Requirement already satisfied: langchain in /usr/local/lib/python3.10/dist-packages (0.2.14)\n",
            "Requirement already satisfied: langchain_groq in /usr/local/lib/python3.10/dist-packages (0.1.9)\n",
            "Requirement already satisfied: langchain_community in /usr/local/lib/python3.10/dist-packages (0.2.12)\n",
            "Requirement already satisfied: PyYAML>=5.3 in /usr/local/lib/python3.10/dist-packages (from langchain) (6.0.2)\n",
            "Requirement already satisfied: SQLAlchemy<3,>=1.4 in /usr/local/lib/python3.10/dist-packages (from langchain) (2.0.32)\n",
            "Requirement already satisfied: aiohttp<4.0.0,>=3.8.3 in /usr/local/lib/python3.10/dist-packages (from langchain) (3.10.3)\n",
            "Requirement already satisfied: async-timeout<5.0.0,>=4.0.0 in /usr/local/lib/python3.10/dist-packages (from langchain) (4.0.3)\n",
            "Requirement already satisfied: langchain-core<0.3.0,>=0.2.32 in /usr/local/lib/python3.10/dist-packages (from langchain) (0.2.34)\n",
            "Requirement already satisfied: langchain-text-splitters<0.3.0,>=0.2.0 in /usr/local/lib/python3.10/dist-packages (from langchain) (0.2.2)\n",
            "Requirement already satisfied: langsmith<0.2.0,>=0.1.17 in /usr/local/lib/python3.10/dist-packages (from langchain) (0.1.101)\n",
            "Requirement already satisfied: numpy<2,>=1 in /usr/local/lib/python3.10/dist-packages (from langchain) (1.26.4)\n",
            "Requirement already satisfied: pydantic<3,>=1 in /usr/local/lib/python3.10/dist-packages (from langchain) (2.8.2)\n",
            "Requirement already satisfied: requests<3,>=2 in /usr/local/lib/python3.10/dist-packages (from langchain) (2.32.3)\n",
            "Requirement already satisfied: tenacity!=8.4.0,<9.0.0,>=8.1.0 in /usr/local/lib/python3.10/dist-packages (from langchain) (8.5.0)\n",
            "Requirement already satisfied: groq<1,>=0.4.1 in /usr/local/lib/python3.10/dist-packages (from langchain_groq) (0.9.0)\n",
            "Requirement already satisfied: dataclasses-json<0.7,>=0.5.7 in /usr/local/lib/python3.10/dist-packages (from langchain_community) (0.6.7)\n",
            "Requirement already satisfied: aiohappyeyeballs>=2.3.0 in /usr/local/lib/python3.10/dist-packages (from aiohttp<4.0.0,>=3.8.3->langchain) (2.3.5)\n",
            "Requirement already satisfied: aiosignal>=1.1.2 in /usr/local/lib/python3.10/dist-packages (from aiohttp<4.0.0,>=3.8.3->langchain) (1.3.1)\n",
            "Requirement already satisfied: attrs>=17.3.0 in /usr/local/lib/python3.10/dist-packages (from aiohttp<4.0.0,>=3.8.3->langchain) (24.2.0)\n",
            "Requirement already satisfied: frozenlist>=1.1.1 in /usr/local/lib/python3.10/dist-packages (from aiohttp<4.0.0,>=3.8.3->langchain) (1.4.1)\n",
            "Requirement already satisfied: multidict<7.0,>=4.5 in /usr/local/lib/python3.10/dist-packages (from aiohttp<4.0.0,>=3.8.3->langchain) (6.0.5)\n",
            "Requirement already satisfied: yarl<2.0,>=1.0 in /usr/local/lib/python3.10/dist-packages (from aiohttp<4.0.0,>=3.8.3->langchain) (1.9.4)\n",
            "Requirement already satisfied: marshmallow<4.0.0,>=3.18.0 in /usr/local/lib/python3.10/dist-packages (from dataclasses-json<0.7,>=0.5.7->langchain_community) (3.22.0)\n",
            "Requirement already satisfied: typing-inspect<1,>=0.4.0 in /usr/local/lib/python3.10/dist-packages (from dataclasses-json<0.7,>=0.5.7->langchain_community) (0.9.0)\n",
            "Requirement already satisfied: anyio<5,>=3.5.0 in /usr/local/lib/python3.10/dist-packages (from groq<1,>=0.4.1->langchain_groq) (3.7.1)\n",
            "Requirement already satisfied: distro<2,>=1.7.0 in /usr/lib/python3/dist-packages (from groq<1,>=0.4.1->langchain_groq) (1.7.0)\n",
            "Requirement already satisfied: httpx<1,>=0.23.0 in /usr/local/lib/python3.10/dist-packages (from groq<1,>=0.4.1->langchain_groq) (0.27.0)\n",
            "Requirement already satisfied: sniffio in /usr/local/lib/python3.10/dist-packages (from groq<1,>=0.4.1->langchain_groq) (1.3.1)\n",
            "Requirement already satisfied: typing-extensions<5,>=4.7 in /usr/local/lib/python3.10/dist-packages (from groq<1,>=0.4.1->langchain_groq) (4.12.2)\n",
            "Requirement already satisfied: jsonpatch<2.0,>=1.33 in /usr/local/lib/python3.10/dist-packages (from langchain-core<0.3.0,>=0.2.32->langchain) (1.33)\n",
            "Requirement already satisfied: packaging<25,>=23.2 in /usr/local/lib/python3.10/dist-packages (from langchain-core<0.3.0,>=0.2.32->langchain) (24.1)\n",
            "Requirement already satisfied: orjson<4.0.0,>=3.9.14 in /usr/local/lib/python3.10/dist-packages (from langsmith<0.2.0,>=0.1.17->langchain) (3.10.7)\n",
            "Requirement already satisfied: annotated-types>=0.4.0 in /usr/local/lib/python3.10/dist-packages (from pydantic<3,>=1->langchain) (0.7.0)\n",
            "Requirement already satisfied: pydantic-core==2.20.1 in /usr/local/lib/python3.10/dist-packages (from pydantic<3,>=1->langchain) (2.20.1)\n",
            "Requirement already satisfied: charset-normalizer<4,>=2 in /usr/local/lib/python3.10/dist-packages (from requests<3,>=2->langchain) (3.3.2)\n",
            "Requirement already satisfied: idna<4,>=2.5 in /usr/local/lib/python3.10/dist-packages (from requests<3,>=2->langchain) (3.7)\n",
            "Requirement already satisfied: urllib3<3,>=1.21.1 in /usr/local/lib/python3.10/dist-packages (from requests<3,>=2->langchain) (2.0.7)\n",
            "Requirement already satisfied: certifi>=2017.4.17 in /usr/local/lib/python3.10/dist-packages (from requests<3,>=2->langchain) (2024.7.4)\n",
            "Requirement already satisfied: greenlet!=0.4.17 in /usr/local/lib/python3.10/dist-packages (from SQLAlchemy<3,>=1.4->langchain) (3.0.3)\n",
            "Requirement already satisfied: exceptiongroup in /usr/local/lib/python3.10/dist-packages (from anyio<5,>=3.5.0->groq<1,>=0.4.1->langchain_groq) (1.2.2)\n",
            "Requirement already satisfied: httpcore==1.* in /usr/local/lib/python3.10/dist-packages (from httpx<1,>=0.23.0->groq<1,>=0.4.1->langchain_groq) (1.0.5)\n",
            "Requirement already satisfied: h11<0.15,>=0.13 in /usr/local/lib/python3.10/dist-packages (from httpcore==1.*->httpx<1,>=0.23.0->groq<1,>=0.4.1->langchain_groq) (0.14.0)\n",
            "Requirement already satisfied: jsonpointer>=1.9 in /usr/local/lib/python3.10/dist-packages (from jsonpatch<2.0,>=1.33->langchain-core<0.3.0,>=0.2.32->langchain) (3.0.0)\n",
            "Requirement already satisfied: mypy-extensions>=0.3.0 in /usr/local/lib/python3.10/dist-packages (from typing-inspect<1,>=0.4.0->dataclasses-json<0.7,>=0.5.7->langchain_community) (1.0.0)\n"
          ]
        }
      ]
    },
    {
      "cell_type": "code",
      "source": [
        "from google.colab import userdata\n",
        "groq_api_key = userdata.get('GROQ_API_KEY')\n",
        "langsmith = userdata.get('LANGSMITH_API_KEY')\n",
        "\n",
        "\n"
      ],
      "metadata": {
        "id": "kNJFjRnM7nY6"
      },
      "execution_count": 3,
      "outputs": []
    },
    {
      "cell_type": "code",
      "source": [
        "import os\n",
        "os.environ[\"LANGCHAIN_API_KEY\"] = langsmith\n",
        "os.environ[\"LANGCHAIN_TRACING_V2\"] = \"true\"\n",
        "os.environ[\"LANGCHAIN_PROJECT\"] = \"CourseLanggraph\""
      ],
      "metadata": {
        "id": "jZ4Tao_d8nRI"
      },
      "execution_count": 4,
      "outputs": []
    },
    {
      "cell_type": "code",
      "source": [
        "from langchain_groq import ChatGroq"
      ],
      "metadata": {
        "id": "nSj4CuPB-S7i"
      },
      "execution_count": 5,
      "outputs": []
    },
    {
      "cell_type": "code",
      "source": [
        "llm = ChatGroq(groq_api_key = groq_api_key, model_name = \"Gemma2-9b-It\")\n",
        "llm"
      ],
      "metadata": {
        "colab": {
          "base_uri": "https://localhost:8080/"
        },
        "id": "F1qNQ84z-anc",
        "outputId": "4e5692fe-488e-4188-c24c-0f6c7e224a16"
      },
      "execution_count": 6,
      "outputs": [
        {
          "output_type": "execute_result",
          "data": {
            "text/plain": [
              "ChatGroq(client=<groq.resources.chat.completions.Completions object at 0x7e641fdf9d20>, async_client=<groq.resources.chat.completions.AsyncCompletions object at 0x7e641fdfa9e0>, model_name='Gemma2-9b-It', groq_api_key=SecretStr('**********'))"
            ]
          },
          "metadata": {},
          "execution_count": 6
        }
      ]
    },
    {
      "cell_type": "markdown",
      "source": [
        "## Start Building Chatbot using Langraph"
      ],
      "metadata": {
        "id": "SR6q2p0Z-4gT"
      }
    },
    {
      "cell_type": "code",
      "source": [
        "from typing import Annotated\n",
        "from typing_extensions import TypedDict\n",
        "from langgraph.graph import StateGraph, START, END\n",
        "from langgraph.graph.message import add_messages"
      ],
      "metadata": {
        "id": "XfOmswGn-0us"
      },
      "execution_count": 7,
      "outputs": []
    },
    {
      "cell_type": "code",
      "source": [
        "class State(TypedDict):\n",
        "  #Message have the type \"list\". The 'add_messages' Function\n",
        "  # in the annotation defines how this state key should be updated\n",
        "  # (in this case, it appends messages to the list, rather than overwriting them)\n",
        "  messages:Annotated[list, add_messages]\n",
        "\n",
        "graph_builder = StateGraph(State)"
      ],
      "metadata": {
        "id": "QzcvysPYAOyv"
      },
      "execution_count": 8,
      "outputs": []
    },
    {
      "cell_type": "code",
      "source": [
        "graph_builder"
      ],
      "metadata": {
        "colab": {
          "base_uri": "https://localhost:8080/"
        },
        "id": "EE_5mSquBrJK",
        "outputId": "f16366d7-c11a-4981-9587-61f5803adbe3"
      },
      "execution_count": 9,
      "outputs": [
        {
          "output_type": "execute_result",
          "data": {
            "text/plain": [
              "<langgraph.graph.state.StateGraph at 0x7e645134e560>"
            ]
          },
          "metadata": {},
          "execution_count": 9
        }
      ]
    },
    {
      "cell_type": "code",
      "source": [
        "def chatbot(state:State):\n",
        "  return {\"messages\":llm.invoke(state['messages'])}"
      ],
      "metadata": {
        "id": "VnsYRZTaBsa-"
      },
      "execution_count": 10,
      "outputs": []
    },
    {
      "cell_type": "code",
      "source": [
        "graph_builder.add_node(\"chatbot\", chatbot)"
      ],
      "metadata": {
        "id": "167gTrlnCLLb"
      },
      "execution_count": 11,
      "outputs": []
    },
    {
      "cell_type": "code",
      "source": [
        "graph_builder"
      ],
      "metadata": {
        "colab": {
          "base_uri": "https://localhost:8080/"
        },
        "id": "G1otI8YgCSo2",
        "outputId": "f97c9c6c-6ac2-4ddf-a8d3-7c396dbf15cf"
      },
      "execution_count": 12,
      "outputs": [
        {
          "output_type": "execute_result",
          "data": {
            "text/plain": [
              "<langgraph.graph.state.StateGraph at 0x7e645134e560>"
            ]
          },
          "metadata": {},
          "execution_count": 12
        }
      ]
    },
    {
      "cell_type": "code",
      "source": [
        "graph_builder.add_edge(START, \"chatbot\")\n",
        "graph_builder.add_edge(\"chatbot\", END)"
      ],
      "metadata": {
        "id": "tBZbXnooCUET"
      },
      "execution_count": 13,
      "outputs": []
    },
    {
      "cell_type": "code",
      "source": [
        "graph = graph_builder.compile()"
      ],
      "metadata": {
        "id": "dp9pPH_BCtfF"
      },
      "execution_count": 14,
      "outputs": []
    },
    {
      "cell_type": "code",
      "source": [
        "from IPython.display import Image, display\n",
        "try:\n",
        "  display(Image(graph.get_graph().draw_mermaid_png()))\n",
        "except Exception:\n",
        "  pass"
      ],
      "metadata": {
        "colab": {
          "base_uri": "https://localhost:8080/",
          "height": 236
        },
        "id": "zcBzl62qCzr9",
        "outputId": "3141ed94-0a9d-4ed9-a629-2ed5fb0866b6"
      },
      "execution_count": 15,
      "outputs": [
        {
          "output_type": "display_data",
          "data": {
            "image/jpeg": "[encoded data removed]",
            "text/plain": [
              "<IPython.core.display.Image object>"
            ]
          },
          "metadata": {}
        }
      ]
    },
    {
      "cell_type": "code",
      "source": [
        "while True:\n",
        "  user_input = input(\"User: \")\n",
        "  if user_input.lower() in [\"quit\", \"q\"]:\n",
        "    print(\"Good Bye \")\n",
        "    break\n",
        "  for event in graph.stream({\"messages\": (\"user\", user_input)}):\n",
        "     print(event.values())\n",
        "     for value in event.values():\n",
        "       print(value[\"messages\"])\n",
        "       print(\"Assistant:\", value[\"messages\"].content)\n"
      ],
      "metadata": {
        "colab": {
          "base_uri": "https://localhost:8080/"
        },
        "id": "JePqRVoYDqup",
        "outputId": "c52e215c-3faa-4cde-8495-0cf6854cef84"
      },
      "execution_count": 18,
      "outputs": [
        {
          "output_type": "stream",
          "name": "stdout",
          "text": [
            "User: Hello\n",
            "dict_values([{'messages': AIMessage(content='Hello! 👋 \\n\\nHow can I help you today? 😊\\n', response_metadata={'token_usage': {'completion_tokens': 16, 'prompt_tokens': 15, 'total_tokens': 31, 'completion_time': 0.03118128, 'prompt_time': 0.002335667, 'queue_time': None, 'total_time': 0.033516947}, 'model_name': 'Gemma2-9b-It', 'system_fingerprint': 'fp_10c08bf97d', 'finish_reason': 'stop', 'logprobs': None}, id='run-96e3bab0-15b7-4d69-8ac6-a4584dec8424-0', usage_metadata={'input_tokens': 15, 'output_tokens': 16, 'total_tokens': 31})}])\n",
            "content='Hello! 👋 \\n\\nHow can I help you today? 😊\\n' response_metadata={'token_usage': {'completion_tokens': 16, 'prompt_tokens': 15, 'total_tokens': 31, 'completion_time': 0.03118128, 'prompt_time': 0.002335667, 'queue_time': None, 'total_time': 0.033516947}, 'model_name': 'Gemma2-9b-It', 'system_fingerprint': 'fp_10c08bf97d', 'finish_reason': 'stop', 'logprobs': None} id='run-96e3bab0-15b7-4d69-8ac6-a4584dec8424-0' usage_metadata={'input_tokens': 15, 'output_tokens': 16, 'total_tokens': 31}\n",
            "Assistant: Hello! 👋 \n",
            "\n",
            "How can I help you today? 😊\n",
            "\n",
            "User: What is gen AI\n",
            "dict_values([{'messages': AIMessage(content=\"**Generative AI** (Gen AI) is a type of artificial intelligence that focuses on creating new content, rather than simply analyzing or classifying existing data.\\n\\n**Key Characteristics:**\\n\\n* **Content Creation:** Gen AI models are trained to generate various types of content, including text, images, audio, video, and code.\\n* **Data-Driven:** These models learn from massive datasets of existing content, identifying patterns and structures to generate new, original output.\\n* **Probabilistic Nature:** Gen AI doesn't produce deterministic results. Instead, it generates outputs based on probabilities learned from the training data.\\n* **Continuous Learning:** Gen AI models can often be fine-tuned and updated with new data, improving their performance over time.\\n\\n**Examples of Gen AI Applications:**\\n\\n* **Text Generation:**\\n\\nChatbots, writing assistants, story generators, article summarizers.\\n* **Image Generation:** Creating realistic or artistic images, generating variations of existing images, designing logos and artwork.\\n* **Audio Generation:**\\n\\nSynthesizing speech, composing music, generating sound effects.\\n* **Video Generation:** Producing short videos, animating characters, creating special effects.\\n* **Code Generation:** Assisting in writing and debugging code, generating code snippets for specific tasks.\\n\\n**Popular Gen AI Models:**\\n\\n* GPT-3 (text)\\n* DALL-E 2 (images)\\n* Jukebox (audio)\\n* Stable Diffusion (images)\\n* Codex (code)\\n\\n**Benefits of Gen AI:**\\n\\n* **Creativity and Innovation:** Enables the creation of novel content and ideas.\\n* **Efficiency and Automation:** Automates content creation tasks, saving time and resources.\\n* **Personalization:**\\n\\nGenerates customized content tailored to individual preferences.\\n* **Accessibility:** Makes content creation tools more accessible to non-experts.\\n\\n**Challenges of Gen AI:**\\n\\n* **Bias and Fairness:**\\n\\nGen AI models can inherit biases from the training data, leading to unfair or discriminatory outputs.\\n* **Misinformation and Deepfakes:**\\n\\nCan be used to generate realistic but fake content, posing a risk to truth and trust.\\n* **Copyright and Intellectual Property:**\\n\\nRaises questions about ownership and rights to AI-generated content.\\n\\n\\n\\n\", response_metadata={'token_usage': {'completion_tokens': 464, 'prompt_tokens': 18, 'total_tokens': 482, 'completion_time': 0.970030742, 'prompt_time': 0.002325068, 'queue_time': None, 'total_time': 0.9723558099999999}, 'model_name': 'Gemma2-9b-It', 'system_fingerprint': 'fp_10c08bf97d', 'finish_reason': 'stop', 'logprobs': None}, id='run-010fb6ce-10e8-4a82-9ad5-91d8c73e1ffd-0', usage_metadata={'input_tokens': 18, 'output_tokens': 464, 'total_tokens': 482})}])\n",
            "content=\"**Generative AI** (Gen AI) is a type of artificial intelligence that focuses on creating new content, rather than simply analyzing or classifying existing data.\\n\\n**Key Characteristics:**\\n\\n* **Content Creation:** Gen AI models are trained to generate various types of content, including text, images, audio, video, and code.\\n* **Data-Driven:** These models learn from massive datasets of existing content, identifying patterns and structures to generate new, original output.\\n* **Probabilistic Nature:** Gen AI doesn't produce deterministic results. Instead, it generates outputs based on probabilities learned from the training data.\\n* **Continuous Learning:** Gen AI models can often be fine-tuned and updated with new data, improving their performance over time.\\n\\n**Examples of Gen AI Applications:**\\n\\n* **Text Generation:**\\n\\nChatbots, writing assistants, story generators, article summarizers.\\n* **Image Generation:** Creating realistic or artistic images, generating variations of existing images, designing logos and artwork.\\n* **Audio Generation:**\\n\\nSynthesizing speech, composing music, generating sound effects.\\n* **Video Generation:** Producing short videos, animating characters, creating special effects.\\n* **Code Generation:** Assisting in writing and debugging code, generating code snippets for specific tasks.\\n\\n**Popular Gen AI Models:**\\n\\n* GPT-3 (text)\\n* DALL-E 2 (images)\\n* Jukebox (audio)\\n* Stable Diffusion (images)\\n* Codex (code)\\n\\n**Benefits of Gen AI:**\\n\\n* **Creativity and Innovation:** Enables the creation of novel content and ideas.\\n* **Efficiency and Automation:** Automates content creation tasks, saving time and resources.\\n* **Personalization:**\\n\\nGenerates customized content tailored to individual preferences.\\n* **Accessibility:** Makes content creation tools more accessible to non-experts.\\n\\n**Challenges of Gen AI:**\\n\\n* **Bias and Fairness:**\\n\\nGen AI models can inherit biases from the training data, leading to unfair or discriminatory outputs.\\n* **Misinformation and Deepfakes:**\\n\\nCan be used to generate realistic but fake content, posing a risk to truth and trust.\\n* **Copyright and Intellectual Property:**\\n\\nRaises questions about ownership and rights to AI-generated content.\\n\\n\\n\\n\" response_metadata={'token_usage': {'completion_tokens': 464, 'prompt_tokens': 18, 'total_tokens': 482, 'completion_time': 0.970030742, 'prompt_time': 0.002325068, 'queue_time': None, 'total_time': 0.9723558099999999}, 'model_name': 'Gemma2-9b-It', 'system_fingerprint': 'fp_10c08bf97d', 'finish_reason': 'stop', 'logprobs': None} id='run-010fb6ce-10e8-4a82-9ad5-91d8c73e1ffd-0' usage_metadata={'input_tokens': 18, 'output_tokens': 464, 'total_tokens': 482}\n",
            "Assistant: **Generative AI** (Gen AI) is a type of artificial intelligence that focuses on creating new content, rather than simply analyzing or classifying existing data.\n",
            "\n",
            "**Key Characteristics:**\n",
            "\n",
            "* **Content Creation:** Gen AI models are trained to generate various types of content, including text, images, audio, video, and code.\n",
            "* **Data-Driven:** These models learn from massive datasets of existing content, identifying patterns and structures to generate new, original output.\n",
            "* **Probabilistic Nature:** Gen AI doesn't produce deterministic results. Instead, it generates outputs based on probabilities learned from the training data.\n",
            "* **Continuous Learning:** Gen AI models can often be fine-tuned and updated with new data, improving their performance over time.\n",
            "\n",
            "**Examples of Gen AI Applications:**\n",
            "\n",
            "* **Text Generation:**\n",
            "\n",
            "Chatbots, writing assistants, story generators, article summarizers.\n",
            "* **Image Generation:** Creating realistic or artistic images, generating variations of existing images, designing logos and artwork.\n",
            "* **Audio Generation:**\n",
            "\n",
            "Synthesizing speech, composing music, generating sound effects.\n",
            "* **Video Generation:** Producing short videos, animating characters, creating special effects.\n",
            "* **Code Generation:** Assisting in writing and debugging code, generating code snippets for specific tasks.\n",
            "\n",
            "**Popular Gen AI Models:**\n",
            "\n",
            "* GPT-3 (text)\n",
            "* DALL-E 2 (images)\n",
            "* Jukebox (audio)\n",
            "* Stable Diffusion (images)\n",
            "* Codex (code)\n",
            "\n",
            "**Benefits of Gen AI:**\n",
            "\n",
            "* **Creativity and Innovation:** Enables the creation of novel content and ideas.\n",
            "* **Efficiency and Automation:** Automates content creation tasks, saving time and resources.\n",
            "* **Personalization:**\n",
            "\n",
            "Generates customized content tailored to individual preferences.\n",
            "* **Accessibility:** Makes content creation tools more accessible to non-experts.\n",
            "\n",
            "**Challenges of Gen AI:**\n",
            "\n",
            "* **Bias and Fairness:**\n",
            "\n",
            "Gen AI models can inherit biases from the training data, leading to unfair or discriminatory outputs.\n",
            "* **Misinformation and Deepfakes:**\n",
            "\n",
            "Can be used to generate realistic but fake content, posing a risk to truth and trust.\n",
            "* **Copyright and Intellectual Property:**\n",
            "\n",
            "Raises questions about ownership and rights to AI-generated content.\n",
            "\n",
            "\n",
            "\n",
            "\n",
            "User: Are you mad\n",
            "dict_values([{'messages': AIMessage(content=\"As an AI, I don't experience emotions like anger. I'm here to help you with your requests and provide information to the best of my ability based on my training data.\\n\\nIs there anything specific I can assist you with?\\n\", response_metadata={'token_usage': {'completion_tokens': 52, 'prompt_tokens': 17, 'total_tokens': 69, 'completion_time': 0.105687213, 'prompt_time': 0.002324417, 'queue_time': None, 'total_time': 0.10801163}, 'model_name': 'Gemma2-9b-It', 'system_fingerprint': 'fp_10c08bf97d', 'finish_reason': 'stop', 'logprobs': None}, id='run-933fd295-f9f4-468c-9a01-1284784f2d32-0', usage_metadata={'input_tokens': 17, 'output_tokens': 52, 'total_tokens': 69})}])\n",
            "content=\"As an AI, I don't experience emotions like anger. I'm here to help you with your requests and provide information to the best of my ability based on my training data.\\n\\nIs there anything specific I can assist you with?\\n\" response_metadata={'token_usage': {'completion_tokens': 52, 'prompt_tokens': 17, 'total_tokens': 69, 'completion_time': 0.105687213, 'prompt_time': 0.002324417, 'queue_time': None, 'total_time': 0.10801163}, 'model_name': 'Gemma2-9b-It', 'system_fingerprint': 'fp_10c08bf97d', 'finish_reason': 'stop', 'logprobs': None} id='run-933fd295-f9f4-468c-9a01-1284784f2d32-0' usage_metadata={'input_tokens': 17, 'output_tokens': 52, 'total_tokens': 69}\n",
            "Assistant: As an AI, I don't experience emotions like anger. I'm here to help you with your requests and provide information to the best of my ability based on my training data.\n",
            "\n",
            "Is there anything specific I can assist you with?\n",
            "\n",
            "User: q\n",
            "Good Bye \n"
          ]
        }
      ]
    },
    {
      "cell_type": "code",
      "source": [],
      "metadata": {
        "id": "ORo3WZdUFEPk"
      },
      "execution_count": null,
      "outputs": []
    }
  ]
}